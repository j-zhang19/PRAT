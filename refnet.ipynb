{
 "cells": [
  {
   "cell_type": "code",
   "execution_count": 1,
   "metadata": {},
   "outputs": [],
   "source": [
    "import torch\n",
    "import torchvision\n",
    "import torch.nn as nn\n",
    "import numpy as np\n",
    "from collections import OrderedDict\n",
    "import torch.nn.functional as F"
   ]
  },
  {
   "cell_type": "code",
   "execution_count": 2,
   "metadata": {},
   "outputs": [],
   "source": [
    "class SE(nn.Module):\n",
    "    def __init__(self, channel, out_chan, reduction_ratio =2, ):\n",
    "        super(SE, self).__init__()\n",
    "        ### squeeze\n",
    "        self.squeeze = nn.AdaptiveAvgPool2d(1)\n",
    "        \n",
    "        ### excitation\n",
    "        self.excitation = nn.Sequential(\n",
    "            nn.Linear(channel, channel // reduction_ratio, bias=False),\n",
    "            nn.ReLU(inplace=True),\n",
    "            nn.Linear(channel // reduction_ratio, channel, bias=False),\n",
    "            nn.Sigmoid()\n",
    "        )\n",
    "\n",
    "        ### ??\n",
    "        self.c = nn.Conv2d(channel, out_chan, 1, 1)\n",
    "\n",
    "    def forward(self, x):\n",
    "        if x.ndim == 4:\n",
    "            b = x.size(0)\n",
    "            c = x.size(1)\n",
    "        if x.ndim == 5:\n",
    "            b = x.size(1)\n",
    "            c = x.size(2)\n",
    "        y = self.squeeze(x).view(b, c)\n",
    "        y = self.excitation(y).unsqueeze(2).unsqueeze(3)\n",
    "        return self.c(x*y)"
   ]
  },
  {
   "cell_type": "code",
   "execution_count": 3,
   "metadata": {},
   "outputs": [],
   "source": [
    "class RefNet_basic(nn.Module):\n",
    "    def __init__(self, in_chan, out_chan, se=False, maxpool=False):\n",
    "        super(RefNet_basic, self).__init__()\n",
    "\n",
    "        self.conv = nn.Conv3d(in_chan, in_chan, 1, 1)\n",
    "        self.relu = nn.ReLU()\n",
    "\n",
    "        self.se = None\n",
    "        self.maxpool = None\n",
    "\n",
    "        if se:\n",
    "            # self.se = torchvision.ops.SqueezeExcitation(in_chan, out_chan)\n",
    "            self.se = SE(in_chan, out_chan)\n",
    "            # self.se = SpatialSELayer3D(in_chan, out_chan)\n",
    "        if maxpool:\n",
    "            self.maxpool = nn.MaxPool2d(2,2)\n",
    "            self.conv_2 = nn.Conv2d(in_chan, out_chan, 1, 1)\n",
    "\n",
    "    def forward(self, X):\n",
    "        # X = B, C, H, W\n",
    "        x = X.transpose(0,1)\n",
    "        x_conv =  self.conv(X)\n",
    "\n",
    "        t = self.relu(x_conv)\n",
    "        t = self.conv(t)\n",
    "        t = self.relu(t)\n",
    "\n",
    "        y = torch.add(x_conv, t)\n",
    "\n",
    "        if self.se is not None:\n",
    "            y = y.transpose(1,0)\n",
    "            y = self.se(y)\n",
    "        if self.maxpool is not None:\n",
    "            y = self.maxpool(y)\n",
    "            y = y.transpose(1,0)\n",
    "            y = self.conv_2(y)\n",
    "\n",
    "\n",
    "        y = y.transpose(1,0)\n",
    "        \n",
    "        return y"
   ]
  },
  {
   "cell_type": "code",
   "execution_count": 4,
   "metadata": {},
   "outputs": [],
   "source": [
    "class RefNet(nn.Module):\n",
    "    def __init__(self, in_chan):\n",
    "        super(RefNet, self).__init__()\n",
    "\n",
    "        self.down_1 = RefNet_basic(in_chan, 32, maxpool=True)\n",
    "        self.att_1 = RefNet_basic(in_chan, 32, se=True)\n",
    "        \n",
    "        self.down_2 = RefNet_basic(32, 64, maxpool=True)\n",
    "        self.conv_1 = nn.Conv2d(64, 128, 1 , 1)\n",
    "        self.att_2 = RefNet_basic(32, 64, se=True)\n",
    "\n",
    "        self.deconv_1 = nn.ConvTranspose2d(128, 64, 4, 2, 1)\n",
    "\n",
    "        self.refbasic_1 = RefNet_basic(64, 64)\n",
    "\n",
    "        self.deconv_2 = nn.ConvTranspose2d(64, 32, 4, 2, 1)\n",
    "\n",
    "        self.refbasic_2 = RefNet_basic(32, 32)\n",
    "\n",
    "\n",
    "    \n",
    "    def forward(self, X):\n",
    "        # X : S, B, C, H, W\n",
    "        # seq_number, batch_size, input_channel, height, width = X.size()\n",
    "        # X = torch.reshape(X, (-1, input_channel, height, width))\n",
    "        # X = torch.reshape(X, (seq_number, batch_size, X.size(1), X.size(2), X.size(3)))\n",
    "\n",
    "        X = X.transpose(0,1)\n",
    "\n",
    "        print('before att:', X.size())\n",
    "\n",
    "        res_1 = self.att_1(X) # -> 32\n",
    "        down_1 = self.down_1(X) # -> 32\n",
    "\n",
    "        res_2 = self.att_2(down_1) # -> 64\n",
    "        down_2 = self.down_2(down_1) # -> 64\n",
    "\n",
    "\n",
    "        down_2 = down_2.transpose(1,0)\n",
    "        conv_1 = self.conv_1(down_2) # -> 128\n",
    "        down_2 = down_2.transpose(1,0)\n",
    "        #conv_1 = torch.add(conv_1, conv_1) # ??\n",
    "\n",
    "        deconv_1 = self.deconv_1(conv_1) # -> 64\n",
    "        deconv_1 = deconv_1.transpose(1,0)\n",
    "        deconv_1 = torch.add(deconv_1, res_2) # -> 64\n",
    "        deconv_1 = self.refbasic_1(deconv_1) # -> 64\n",
    "\n",
    "        deconv_2 = self.deconv_2(deconv_1) # -> 32\n",
    "        deconv_2 = deconv_2.transpose(1,0)\n",
    "        deconv_2 = torch.add(deconv_2, res_1) # -> 32\n",
    "        deconv_2 = self.refbasic_2(deconv_2) # -> 32\n",
    "\n",
    "        return nn.Conv2d(32, 1, 1, 1)(deconv_2) # -> 1\n"
   ]
  },
  {
   "cell_type": "code",
   "execution_count": 5,
   "metadata": {},
   "outputs": [],
   "source": [
    "in_chan = 1\n",
    "x = torch.randn(10,1,300,300)\n",
    "x = x.transpose(1,0)"
   ]
  },
  {
   "cell_type": "code",
   "execution_count": 6,
   "metadata": {},
   "outputs": [
    {
     "name": "stderr",
     "output_type": "stream",
     "text": [
      "/Users/jzhang/opt/anaconda3/lib/python3.9/site-packages/torch/nn/init.py:412: UserWarning: Initializing zero-element tensors is a no-op\n",
      "  warnings.warn(\"Initializing zero-element tensors is a no-op\")\n"
     ]
    }
   ],
   "source": [
    "down_1 = RefNet_basic(in_chan, 32, maxpool=True)\n",
    "att_1 = RefNet_basic(in_chan, 32, se=True)\n",
    "down_2 = RefNet_basic(32, 64, maxpool=True)\n",
    "conv_1 = nn.Conv2d(64, 128, 1 , 1)\n",
    "att_2 = RefNet_basic(32, 64, se=True)\n",
    "deconv_1 = nn.ConvTranspose2d(128, 64, 4, 2, 1)\n",
    "refbasic_1 = RefNet_basic(64, 64)\n",
    "deconv_2 = nn.ConvTranspose2d(64, 32, 4, 2, 1)\n",
    "refbasic_2 = RefNet_basic(32, 32)"
   ]
  },
  {
   "cell_type": "code",
   "execution_count": 7,
   "metadata": {},
   "outputs": [
    {
     "name": "stdout",
     "output_type": "stream",
     "text": [
      "torch.Size([1, 10, 300, 300])\n",
      "down1: torch.Size([32, 10, 150, 150])\n",
      "att1: torch.Size([32, 10, 300, 300])\n"
     ]
    }
   ],
   "source": [
    "print(x.size())\n",
    "down1 = down_1(x)\n",
    "att1 = att_1(x)\n",
    "print(\"down1:\", down1.size())\n",
    "print(\"att1:\", att1.size())"
   ]
  },
  {
   "cell_type": "code",
   "execution_count": 8,
   "metadata": {},
   "outputs": [
    {
     "name": "stdout",
     "output_type": "stream",
     "text": [
      "down2: torch.Size([64, 10, 75, 75])\n",
      "att2: torch.Size([64, 10, 150, 150])\n"
     ]
    }
   ],
   "source": [
    "att2 = att_2(down1) # -> 64\n",
    "down2 = down_2(down1) # -> 64\n",
    "print(\"down2:\", down2.size())\n",
    "print(\"att2:\", att2.size())"
   ]
  },
  {
   "cell_type": "code",
   "execution_count": 9,
   "metadata": {},
   "outputs": [
    {
     "name": "stdout",
     "output_type": "stream",
     "text": [
      "torch.Size([10, 128, 75, 75])\n"
     ]
    }
   ],
   "source": [
    "down2 = down2.transpose(1,0)\n",
    "conv1 = conv_1(down2) # -> 128\n",
    "down2 = down2.transpose(1,0)\n",
    "print(conv1.size())"
   ]
  },
  {
   "cell_type": "code",
   "execution_count": 10,
   "metadata": {},
   "outputs": [
    {
     "name": "stdout",
     "output_type": "stream",
     "text": [
      "torch.Size([10, 64, 150, 150])\n"
     ]
    }
   ],
   "source": [
    "deconv1 = deconv_1(conv1) # -> 64\n",
    "deconv1 = deconv1.transpose(1,0)\n",
    "deconv1 = torch.add(deconv1, att2) # -> 64\n",
    "deconv1 = refbasic_1(deconv1) # -> 64\n",
    "\n",
    "print(deconv1.size())"
   ]
  },
  {
   "cell_type": "code",
   "execution_count": 11,
   "metadata": {},
   "outputs": [
    {
     "name": "stdout",
     "output_type": "stream",
     "text": [
      "torch.Size([10, 32, 300, 300])\n",
      "torch.Size([10, 1, 300, 300])\n"
     ]
    }
   ],
   "source": [
    "deconv2 = deconv_2(deconv1) # -> 32\n",
    "deconv2 = deconv2.transpose(1,0)\n",
    "deconv2 = torch.add(deconv2, att1) # -> 32\n",
    "deconv2 = refbasic_2(deconv2) # -> 32\n",
    "\n",
    "output = nn.Conv2d(32, 1, 1, 1)(deconv2) # -> 1\n",
    "\n",
    "print(deconv2.size())\n",
    "print(output.size())"
   ]
  },
  {
   "cell_type": "code",
   "execution_count": 12,
   "metadata": {},
   "outputs": [
    {
     "name": "stdout",
     "output_type": "stream",
     "text": [
      "before att: torch.Size([1, 10, 300, 300])\n"
     ]
    },
    {
     "data": {
      "text/plain": [
       "torch.Size([10, 1, 300, 300])"
      ]
     },
     "execution_count": 12,
     "metadata": {},
     "output_type": "execute_result"
    }
   ],
   "source": [
    "x = torch.randn(10,1,300,300)\n",
    "RefNet(1)(x).size()"
   ]
  },
  {
   "attachments": {},
   "cell_type": "markdown",
   "metadata": {},
   "source": [
    "---"
   ]
  },
  {
   "cell_type": "code",
   "execution_count": 13,
   "metadata": {},
   "outputs": [
    {
     "name": "stdout",
     "output_type": "stream",
     "text": [
      "torch.Size([10, 128, 1, 128, 128])\n"
     ]
    },
    {
     "data": {
      "text/plain": [
       "torch.Size([1280, 1, 128, 128])"
      ]
     },
     "execution_count": 13,
     "metadata": {},
     "output_type": "execute_result"
    }
   ],
   "source": [
    "x = torch.randn(10,128,1,128,128)\n",
    "print(x.size())\n",
    "seq_number, batch_size, input_channel, height, width = x.size()\n",
    "torch.reshape(x, (-1, input_channel, height, width)).size()"
   ]
  },
  {
   "cell_type": "code",
   "execution_count": 14,
   "metadata": {},
   "outputs": [
    {
     "name": "stdout",
     "output_type": "stream",
     "text": [
      "before: torch.Size([5, 128, 1, 128, 128])\n",
      "after: torch.Size([640, 1, 128, 128])\n",
      "before att: torch.Size([1, 640, 128, 128])\n",
      "output: torch.Size([640, 1, 128, 128])\n",
      "after output: torch.Size([5, 128, 1, 128, 128])\n"
     ]
    }
   ],
   "source": [
    "x = torch.randn(5, 128, 1, 128, 128)\n",
    "seq_number, batch_size, input_channel, height, width = x.size()\n",
    "\n",
    "print(\"before:\", x.size())\n",
    "x = torch.reshape(x, (-1, input_channel, height, width))\n",
    "print(\"after:\", x.size())\n",
    "y = RefNet(1)(x)\n",
    "print(\"output:\", y.size())\n",
    "y = torch.reshape(y, (seq_number, batch_size, x.size(1), x.size(2), x.size(3)))\n",
    "print(\"after output:\", y.size())"
   ]
  },
  {
   "cell_type": "code",
   "execution_count": null,
   "metadata": {},
   "outputs": [],
   "source": []
  }
 ],
 "metadata": {
  "kernelspec": {
   "display_name": "base",
   "language": "python",
   "name": "python3"
  },
  "language_info": {
   "codemirror_mode": {
    "name": "ipython",
    "version": 3
   },
   "file_extension": ".py",
   "mimetype": "text/x-python",
   "name": "python",
   "nbconvert_exporter": "python",
   "pygments_lexer": "ipython3",
   "version": "3.9.13"
  },
  "orig_nbformat": 4,
  "vscode": {
   "interpreter": {
    "hash": "75873ab8eeaa793ffbc01b081e2e3a976d2b0fe4dc4ce6ce0a27673583b009ce"
   }
  }
 },
 "nbformat": 4,
 "nbformat_minor": 2
}
